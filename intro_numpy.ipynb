{
 "cells": [
  {
   "cell_type": "code",
   "execution_count": 8,
   "id": "c8465caf",
   "metadata": {},
   "outputs": [],
   "source": [
    "import numpy as np"
   ]
  },
  {
   "cell_type": "markdown",
   "id": "97265fee",
   "metadata": {},
   "source": [
    "- reproduce the result of a np.full by using np.ones"
   ]
  },
  {
   "cell_type": "code",
   "execution_count": 11,
   "id": "273713ca",
   "metadata": {},
   "outputs": [
    {
     "name": "stdout",
     "output_type": "stream",
     "text": [
      "[[9. 9. 9.]\n",
      " [9. 9. 9.]\n",
      " [9. 9. 9.]\n",
      " [9. 9. 9.]]\n"
     ]
    }
   ],
   "source": [
    "def full_Matrix(a0,a1,data):\n",
    "    f=np.ones((a0,a1))\n",
    "    f=f*data\n",
    "    return f\n",
    "print(full_Matrix(4,3,9))"
   ]
  },
  {
   "cell_type": "markdown",
   "id": "936de55f",
   "metadata": {},
   "source": [
    "- reproduce the result of np.zeros_like by using np.zeros"
   ]
  },
  {
   "cell_type": "code",
   "execution_count": 16,
   "id": "f2330a73",
   "metadata": {},
   "outputs": [
    {
     "name": "stdout",
     "output_type": "stream",
     "text": [
      "[[0. 0. 0. 0.]\n",
      " [0. 0. 0. 0.]\n",
      " [0. 0. 0. 0.]]\n"
     ]
    }
   ],
   "source": [
    "def zero_Like(a0):\n",
    "    a1=np.zeros(np.shape(a0))\n",
    "    return a1\n",
    "a0=np.random.random((3,4))\n",
    "print (zero_Like(a0))"
   ]
  },
  {
   "cell_type": "markdown",
   "id": "aa991bb1",
   "metadata": {},
   "source": [
    "- the difference between a[1, 1:2], a[1, [1]] and a[1, 1]"
   ]
  },
  {
   "cell_type": "code",
   "execution_count": 25,
   "id": "cf1a0768",
   "metadata": {},
   "outputs": [
    {
     "name": "stdout",
     "output_type": "stream",
     "text": [
      "<class 'numpy.ndarray'>\n",
      "<class 'numpy.ndarray'>\n",
      "<class 'numpy.int32'>\n"
     ]
    }
   ],
   "source": [
    "a=np.array([[1,2,3],[4,5,6],[7,8,9]])\n",
    "print(type(a[1,1:2]))\n",
    "print(type(a[1,[1]]))\n",
    "print(type(a[1,1]))"
   ]
  },
  {
   "cell_type": "markdown",
   "id": "18cf3421",
   "metadata": {},
   "source": [
    "As shown in the output above, the type of a[1,1] is int, which is different from array of the other two.\n",
    "\n",
    "Well, I think the first two are the same."
   ]
  },
  {
   "cell_type": "markdown",
   "id": "44a8ad56",
   "metadata": {},
   "source": [
    "- create a matrix containing the integers 0 to 11 of the shape (4, 3) and (6, 2), starting from array creation using np.arange"
   ]
  },
  {
   "cell_type": "code",
   "execution_count": 47,
   "id": "136b2e35",
   "metadata": {},
   "outputs": [
    {
     "data": {
      "text/plain": [
       "array([[ 0,  1],\n",
       "       [ 2,  3],\n",
       "       [ 4,  5],\n",
       "       [ 6,  7],\n",
       "       [ 8,  9],\n",
       "       [10, 11]])"
      ]
     },
     "execution_count": 47,
     "metadata": {},
     "output_type": "execute_result"
    }
   ],
   "source": [
    "a1=np.array([[0,1,2],\n",
    "            [3,4,5],\n",
    "            [6,7,8],\n",
    "            [9,10,11]])\n",
    "a2=a1.reshape((6,2))\n",
    "a2"
   ]
  },
  {
   "cell_type": "markdown",
   "id": "5def351d",
   "metadata": {},
   "source": [
    "- count the total number of elements in an array by using some of the aggregation functions"
   ]
  },
  {
   "cell_type": "code",
   "execution_count": 48,
   "id": "a91ddf65",
   "metadata": {},
   "outputs": [
    {
     "name": "stdout",
     "output_type": "stream",
     "text": [
      "12\n"
     ]
    }
   ],
   "source": [
    "def total_Number(a0):\n",
    "    tot=1\n",
    "    for i in range(np.ndim(a0)):\n",
    "        tot*=a0.shape[i]\n",
    "    return tot\n",
    "print(total_Number(a1))"
   ]
  },
  {
   "cell_type": "markdown",
   "id": "46cca21b",
   "metadata": {},
   "source": [
    "- Do the outer product of two vectors by calling np.outer and by broadcasting"
   ]
  },
  {
   "cell_type": "code",
   "execution_count": 70,
   "id": "2084b630",
   "metadata": {},
   "outputs": [
    {
     "name": "stdout",
     "output_type": "stream",
     "text": [
      "[[ 4  5  6]\n",
      " [ 8 10 12]\n",
      " [12 15 18]\n",
      " [16 20 24]]\n",
      "[[ 4.  5.  6.]\n",
      " [ 8. 10. 12.]\n",
      " [12. 15. 18.]\n",
      " [16. 20. 24.]]\n"
     ]
    }
   ],
   "source": [
    "a=np.array([1,2,3,4])\n",
    "b=np.array([4,5,6])\n",
    "#np.outer\n",
    "print(np.outer(a,b))\n",
    "#broadcasting\n",
    "def Outer(a,b):\n",
    "    a0=np.zeros((a.shape[0],b.shape[0]))\n",
    "    for i in range(a.shape[0]):\n",
    "        for j in range(b.shape[0]):\n",
    "            a0[i,j]=a[i]*b[j]\n",
    "    return a0\n",
    "print(Outer(a,b))\n",
    "# I wonder whether this method is broadcasting."
   ]
  },
  {
   "cell_type": "markdown",
   "id": "ed76c01d",
   "metadata": {},
   "source": [
    "- Do a bilinear product $a^T W b$ with einsum"
   ]
  },
  {
   "cell_type": "code",
   "execution_count": 85,
   "id": "2e5a2a98",
   "metadata": {
    "scrolled": true
   },
   "outputs": [
    {
     "name": "stdout",
     "output_type": "stream",
     "text": [
      "[1220]\n"
     ]
    }
   ],
   "source": [
    "def aWb(a,W,b):\n",
    "    c=np.einsum('ij,jk->ik',W,b)\n",
    "    d=np.dot(a,c)\n",
    "    return d\n",
    "W=np.array([[1,2,3],[4,5,6],[7,8,9],[10,11,12]])\n",
    "b=np.array([[4],[5],[6]])\n",
    "print(aWb(a,W,b))"
   ]
  },
  {
   "cell_type": "code",
   "execution_count": null,
   "id": "3ed35635",
   "metadata": {},
   "outputs": [],
   "source": []
  }
 ],
 "metadata": {
  "kernelspec": {
   "display_name": "Python 3 (ipykernel)",
   "language": "python",
   "name": "python3"
  },
  "language_info": {
   "codemirror_mode": {
    "name": "ipython",
    "version": 3
   },
   "file_extension": ".py",
   "mimetype": "text/x-python",
   "name": "python",
   "nbconvert_exporter": "python",
   "pygments_lexer": "ipython3",
   "version": "3.9.12"
  }
 },
 "nbformat": 4,
 "nbformat_minor": 5
}
